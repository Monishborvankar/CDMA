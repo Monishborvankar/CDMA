{
 "cells": [
  {
   "cell_type": "code",
   "execution_count": 1,
   "id": "fff3273f",
   "metadata": {},
   "outputs": [
    {
     "name": "stdout",
     "output_type": "stream",
     "text": [
      "Enter the data bits :\n",
      "Enter D1 :23\n",
      "Enter D2 :5\n",
      "Enter D3 :456\n",
      "Enter D4 :56\n",
      "Resultant Channel [ 540  418 -484 -382]\n",
      "Enter  the station to listen for C1=1 ,C2=2, C3=3 C4=4 : 1\n",
      "Inner Product [ 540  418 -484 -382]\n",
      "Data bit that was sent 23.0\n"
     ]
    }
   ],
   "source": [
    "import numpy as np\n",
    "c1=[1,1,1,1]\n",
    "c2=[1,-1,1,-1]\n",
    "c3=[1,1,-1,-1]\n",
    "c4=[1,-1,-1,1]\n",
    "rc=[]\n",
    "\n",
    "print(\"Enter the data bits :\")\n",
    "\n",
    "d1=int(input(\"Enter D1 :\"))\n",
    "d2=int(input(\"Enter D2 :\"))\n",
    "d3=int(input(\"Enter D3 :\"))\n",
    "d4=int(input(\"Enter D4 :\"))\n",
    "r1=np.multiply(c1,d1)\n",
    "r2=np.multiply(c2,d2)\n",
    "r3=np.multiply(c3,d3)\n",
    "r4=np.multiply(c4,d4)\n",
    "resultant_channel=r1+r2+r3+r4;\n",
    "print(\"Resultant Channel\",resultant_channel)\n",
    "Channel=int(input(\"Enter  the station to listen for C1=1 ,C2=2, C3=3 C4=4 : \"))\n",
    "\n",
    "if Channel==1:\n",
    "  rc=c1\n",
    "elif Channel==2:\n",
    "  rc=c2\n",
    "elif Channel==3:\n",
    "  rc=c3\n",
    "elif Channel==4:\n",
    "  rc=c4\n",
    "inner_product = np.multiply(resultant_channel,rc)\n",
    "\n",
    "print(\"Inner Product\",inner_product)\n",
    "res1=sum(inner_product)\n",
    "\n",
    "data = res1/len(inner_product) \n",
    "print(\"Data bit that was sent\",data)"
   ]
  },
  {
   "cell_type": "code",
   "execution_count": null,
   "id": "2ff44090",
   "metadata": {},
   "outputs": [],
   "source": []
  }
 ],
 "metadata": {
  "kernelspec": {
   "display_name": "Python 3 (ipykernel)",
   "language": "python",
   "name": "python3"
  },
  "language_info": {
   "codemirror_mode": {
    "name": "ipython",
    "version": 3
   },
   "file_extension": ".py",
   "mimetype": "text/x-python",
   "name": "python",
   "nbconvert_exporter": "python",
   "pygments_lexer": "ipython3",
   "version": "3.9.13"
  }
 },
 "nbformat": 4,
 "nbformat_minor": 5
}
